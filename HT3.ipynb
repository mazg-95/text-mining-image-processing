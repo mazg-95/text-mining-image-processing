{
  "nbformat": 4,
  "nbformat_minor": 0,
  "metadata": {
    "colab": {
      "name": "HT3",
      "provenance": [],
      "collapsed_sections": [],
      "mount_file_id": "1l22yDydQ66XOKR9K15HkEb-5d5OCZyjP",
      "authorship_tag": "ABX9TyN8ENotUSq9OQTC1oKonAcR",
      "include_colab_link": true
    },
    "kernelspec": {
      "name": "python3",
      "display_name": "Python 3"
    },
    "language_info": {
      "name": "python"
    }
  },
  "cells": [
    {
      "cell_type": "markdown",
      "metadata": {
        "id": "view-in-github",
        "colab_type": "text"
      },
      "source": [
        "<a href=\"https://colab.research.google.com/github/mazg-95/text-mining-image-processing/blob/main/HT3.ipynb\" target=\"_parent\"><img src=\"https://colab.research.google.com/assets/colab-badge.svg\" alt=\"Open In Colab\"/></a>"
      ]
    },
    {
      "cell_type": "markdown",
      "metadata": {
        "id": "FlK51WuoOARh"
      },
      "source": [
        "### Problema 3"
      ]
    },
    {
      "cell_type": "markdown",
      "metadata": {
        "id": "c29u_kCiPYp-"
      },
      "source": [
        "#### Ejercicio 1"
      ]
    },
    {
      "cell_type": "code",
      "metadata": {
        "id": "3mE3EFIdODf2"
      },
      "source": [
        "import re"
      ],
      "execution_count": 3,
      "outputs": []
    },
    {
      "cell_type": "code",
      "metadata": {
        "id": "IGerWPDK5Waa"
      },
      "source": [
        "def test_string(pattern, text):\n",
        "  m = re.match(pattern, text)\n",
        "  if m:\n",
        "    print(m.group())\n",
        "  else:\n",
        "    print(\"pattern not found\")"
      ],
      "execution_count": 4,
      "outputs": []
    },
    {
      "cell_type": "code",
      "metadata": {
        "id": "0he9vbzdOEog"
      },
      "source": [
        "pattern = \"^\\w+[\\w|(\\.!#$%’*+-/=?^_`{|}~)]+@\\w+\\.\\w{3}\"\n",
        "x = \"Guate.360-porelmundo@miguate.com\"\n",
        "y = \"Miercoles3@hotmail.com\"\n",
        "z = \"Progra3.galileo@galileo.edu\""
      ],
      "execution_count": 5,
      "outputs": []
    },
    {
      "cell_type": "code",
      "metadata": {
        "colab": {
          "base_uri": "https://localhost:8080/"
        },
        "id": "ChaZKV0_Oq4K",
        "outputId": "8875fa85-27db-489f-fd6f-42bc834d6698"
      },
      "source": [
        "test_string(pattern, x)"
      ],
      "execution_count": 6,
      "outputs": [
        {
          "output_type": "stream",
          "text": [
            "Guate.360-porelmundo@miguate.com\n"
          ],
          "name": "stdout"
        }
      ]
    },
    {
      "cell_type": "code",
      "metadata": {
        "colab": {
          "base_uri": "https://localhost:8080/"
        },
        "id": "eXDcolAsPRdN",
        "outputId": "66d1b490-39ee-4c50-e011-1356c4a6e488"
      },
      "source": [
        "test_string(pattern, y)"
      ],
      "execution_count": 7,
      "outputs": [
        {
          "output_type": "stream",
          "text": [
            "Miercoles3@hotmail.com\n"
          ],
          "name": "stdout"
        }
      ]
    },
    {
      "cell_type": "code",
      "metadata": {
        "colab": {
          "base_uri": "https://localhost:8080/"
        },
        "id": "aHt0UkxOPRkt",
        "outputId": "3bd77e1a-55a3-4762-a67a-9e23dfc91540"
      },
      "source": [
        "test_string(pattern, z)"
      ],
      "execution_count": 8,
      "outputs": [
        {
          "output_type": "stream",
          "text": [
            "Progra3.galileo@galileo.edu\n"
          ],
          "name": "stdout"
        }
      ]
    },
    {
      "cell_type": "markdown",
      "metadata": {
        "id": "khaP2lybPdTX"
      },
      "source": [
        "#### Ejercicio 2"
      ]
    },
    {
      "cell_type": "code",
      "metadata": {
        "id": "G6tphXkUPbY4"
      },
      "source": [
        "pattern = \"https?://w{3}\\.[a-zA-Z]\\S+\\.((com)|(org)|(edu)|(net))$\"\n",
        "\n",
        "x = \"https://www.guate360-porelmundo.com\"\n",
        "y = \"http://www.a2.net\"\n",
        "z = \"https://www.galileo.edu\"\n",
        "w = \"http://www.8.org\""
      ],
      "execution_count": 9,
      "outputs": []
    },
    {
      "cell_type": "code",
      "metadata": {
        "colab": {
          "base_uri": "https://localhost:8080/"
        },
        "id": "eXa-g7TyRnGh",
        "outputId": "e14b2723-ea08-4d78-efe8-88f546c68268"
      },
      "source": [
        "test_string(pattern, x)"
      ],
      "execution_count": 10,
      "outputs": [
        {
          "output_type": "stream",
          "text": [
            "https://www.guate360-porelmundo.com\n"
          ],
          "name": "stdout"
        }
      ]
    },
    {
      "cell_type": "code",
      "metadata": {
        "colab": {
          "base_uri": "https://localhost:8080/"
        },
        "id": "-MGcDpgBRkip",
        "outputId": "30f7514d-ba76-439a-fd2a-600a17a4d87b"
      },
      "source": [
        "test_string(pattern, y)"
      ],
      "execution_count": 11,
      "outputs": [
        {
          "output_type": "stream",
          "text": [
            "http://www.a2.net\n"
          ],
          "name": "stdout"
        }
      ]
    },
    {
      "cell_type": "code",
      "metadata": {
        "colab": {
          "base_uri": "https://localhost:8080/"
        },
        "id": "YcmsoU6QRpvx",
        "outputId": "988a2b7a-6c92-4e09-8be8-fdc4c148d53d"
      },
      "source": [
        "test_string(pattern, z)"
      ],
      "execution_count": 12,
      "outputs": [
        {
          "output_type": "stream",
          "text": [
            "https://www.galileo.edu\n"
          ],
          "name": "stdout"
        }
      ]
    },
    {
      "cell_type": "code",
      "metadata": {
        "colab": {
          "base_uri": "https://localhost:8080/"
        },
        "id": "jV6Ysz6fRqrZ",
        "outputId": "f4576536-1d54-491a-d3ec-4fd1d479f93e"
      },
      "source": [
        "test_string(pattern, w)"
      ],
      "execution_count": 13,
      "outputs": [
        {
          "output_type": "stream",
          "text": [
            "pattern not found\n"
          ],
          "name": "stdout"
        }
      ]
    },
    {
      "cell_type": "markdown",
      "metadata": {
        "id": "b2E5ZEylSA9Q"
      },
      "source": [
        "#### Ejercicio 3"
      ]
    },
    {
      "cell_type": "code",
      "metadata": {
        "id": "bh_YdXQnSD-M"
      },
      "source": [
        "pattern = \"(?:[0-9A-F]{2} ?){6}\"\n",
        "x = \"5A 6F AF 8C 9B 1D\"\n",
        "y = \"6D 6C 4D 3A EB 3F\"\n",
        "w = \"3A 7C FA C8 6D 4J\""
      ],
      "execution_count": 15,
      "outputs": []
    },
    {
      "cell_type": "code",
      "metadata": {
        "colab": {
          "base_uri": "https://localhost:8080/"
        },
        "id": "9eDSTTjy5hpz",
        "outputId": "c0d0a14e-3399-4161-90d3-f6a327d52595"
      },
      "source": [
        "test_string(pattern, x)"
      ],
      "execution_count": 16,
      "outputs": [
        {
          "output_type": "stream",
          "text": [
            "5A 6F AF 8C 9B 1D\n"
          ],
          "name": "stdout"
        }
      ]
    },
    {
      "cell_type": "code",
      "metadata": {
        "colab": {
          "base_uri": "https://localhost:8080/"
        },
        "id": "RmXAieiW5iK9",
        "outputId": "1a3b813b-fb5d-4540-feb7-436a3616b2f4"
      },
      "source": [
        "test_string(pattern, y)"
      ],
      "execution_count": 17,
      "outputs": [
        {
          "output_type": "stream",
          "text": [
            "6D 6C 4D 3A EB 3F\n"
          ],
          "name": "stdout"
        }
      ]
    },
    {
      "cell_type": "code",
      "metadata": {
        "colab": {
          "base_uri": "https://localhost:8080/"
        },
        "id": "bCbWl8TT5jjw",
        "outputId": "87a6a81d-ae4a-4148-d2ee-52c5bffe3be4"
      },
      "source": [
        "test_string(pattern, z)"
      ],
      "execution_count": 18,
      "outputs": [
        {
          "output_type": "stream",
          "text": [
            "pattern not found\n"
          ],
          "name": "stdout"
        }
      ]
    },
    {
      "cell_type": "markdown",
      "metadata": {
        "id": "-vDozDOl582m"
      },
      "source": [
        "#### Ejercicio 4"
      ]
    },
    {
      "cell_type": "code",
      "metadata": {
        "colab": {
          "base_uri": "https://localhost:8080/"
        },
        "id": "nE8doOtx8kw0",
        "outputId": "3e14dbba-ac46-419a-d8b5-4791d86460ec"
      },
      "source": [
        "pattern = \"^(?:(?:[01]?[0-9][0-9]?|25[0-5]|2[0-4][0-9])\\.){3}(?:[01]?[0-9][0-9]?|25[0-5]|2[0-4][0-9])$\"\n",
        "x = \"192.16.8.1\"\n",
        "y = \"234.56.78.90\"\n",
        "z = \"1.2.3.4\"\n",
        "w = \"192.168.45.345\"\n",
        "\n",
        "test_string(pattern, x)\n",
        "test_string(pattern, y)\n",
        "test_string(pattern, z)\n",
        "test_string(pattern, w)"
      ],
      "execution_count": 19,
      "outputs": [
        {
          "output_type": "stream",
          "text": [
            "192.16.8.1\n",
            "234.56.78.90\n",
            "1.2.3.4\n",
            "pattern not found\n"
          ],
          "name": "stdout"
        }
      ]
    },
    {
      "cell_type": "markdown",
      "metadata": {
        "id": "4oP0tDpVAKhS"
      },
      "source": [
        "#### Ejercicio 5"
      ]
    },
    {
      "cell_type": "code",
      "metadata": {
        "colab": {
          "base_uri": "https://localhost:8080/"
        },
        "id": "Odu0icxpAMoZ",
        "outputId": "de87d7df-1796-498d-a2c4-fcd9c2fabf80"
      },
      "source": [
        "pattern = \"^(?:(?:3[0-1]|[0-2]?[0-9])[/\\.-]){2}(?:(?:20)?(?:[0|1][0-9]|2[0-1]))$\"\n",
        "\n",
        "x = \"20/1/2019\"\n",
        "y = \"12.03.2005\"\n",
        "z = \"31-11-08\"\n",
        "w = \"12-12-22\"\n",
        "\n",
        "test_string(pattern, x)\n",
        "test_string(pattern, y)\n",
        "test_string(pattern, z)\n",
        "test_string(pattern, w)"
      ],
      "execution_count": 44,
      "outputs": [
        {
          "output_type": "stream",
          "text": [
            "20/1/2019\n",
            "12.03.2005\n",
            "31-11-08\n",
            "pattern not found\n"
          ],
          "name": "stdout"
        }
      ]
    },
    {
      "cell_type": "markdown",
      "metadata": {
        "id": "kidJXP3fMsMU"
      },
      "source": [
        "### Problema 4"
      ]
    },
    {
      "cell_type": "code",
      "metadata": {
        "id": "hcEEDFYYiCm3"
      },
      "source": [
        "months = {\n",
        "      \"jan\": 1,\n",
        "      \"feb\": 2,\n",
        "      \"mar\": 3,\n",
        "      \"abr\": 4,\n",
        "      \"may\": 5,\n",
        "      \"jun\": 6,\n",
        "      \"jul\": 7,\n",
        "      \"aug\": 8,\n",
        "      \"sep\": 9,\n",
        "      \"oct\": 10,\n",
        "      \"nov\": 11,\n",
        "      \"dic\": 12\n",
        "}\n",
        "\n",
        "def safe_cast(val, to_type, default=None):\n",
        "    try:\n",
        "        return to_type(val)\n",
        "    except (ValueError, TypeError):\n",
        "        return default\n",
        "\n",
        "def parse_month(m):\n",
        "  return safe_cast(m, int) or months.get(m.lower()) or 0\n",
        "\n",
        "def get_avg_date_values(pattern, dates):\n",
        "  matches = re.findall(pattern, dates, re.MULTILINE)\n",
        "  res = np.vstack(matches)\n",
        "  days = np.mean(res[:,0].astype(int))\n",
        "  years = np.mean(res[:,2].astype(int))\n",
        "  months =  np.mean(np.array([parse_month(m) for m in res[:,1]], dtype=int))\n",
        "  return (days,months, years)"
      ],
      "execution_count": 69,
      "outputs": []
    },
    {
      "cell_type": "code",
      "metadata": {
        "id": "VZ5f-kj3Mpxs"
      },
      "source": [
        "pattern = \"^((?:3[0-1]|[0-2]?[0-9]))[/\\.-]((?:3[0-1]|[0-2]?[0-9]|[a-zA-Z]{3}))[/\\.-]((?:20)?(?:[0|1][0-9]|2[0-1]))$\""
      ],
      "execution_count": 59,
      "outputs": []
    },
    {
      "cell_type": "code",
      "metadata": {
        "colab": {
          "base_uri": "https://localhost:8080/"
        },
        "id": "6ykMMOdqLPed",
        "outputId": "88424f23-3f6f-4a93-81ba-35dc58f22033"
      },
      "source": [
        "import os\n",
        "\n",
        "def read_file(file):\n",
        "  with open(file, encoding=\"utf-8-sig\") as f: \n",
        "    content = f.read()\n",
        "  return content\n",
        "\n",
        "path = \"/content/drive/MyDrive/Cursos/Data Science/Ciclo3/Text Mining and Image Processing/HT3/Datos\"\n",
        "# Walking a directory tree and printing the names of the directories and files\n",
        "res = None\n",
        "for dirpath, dirnames, files in os.walk(path):\n",
        "    res = [read_file(f\"{path}/{file_name}\") for file_name in files]\n",
        "    res = \"\\n\".join(res)\n",
        "\n",
        "get_avg_date_values(pattern, res)"
      ],
      "execution_count": 70,
      "outputs": [
        {
          "output_type": "execute_result",
          "data": {
            "text/plain": [
              "(15.624761904761904, 6.077142857142857, 2016.6869047619048)"
            ]
          },
          "metadata": {
            "tags": []
          },
          "execution_count": 70
        }
      ]
    }
  ]
}